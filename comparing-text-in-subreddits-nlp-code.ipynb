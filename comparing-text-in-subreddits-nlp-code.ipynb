{
 "cells": [
  {
   "cell_type": "markdown",
   "id": "another-resolution",
   "metadata": {},
   "source": [
    "# Project 3: Natural Language Processing"
   ]
  },
  {
   "cell_type": "markdown",
   "id": "legal-berkeley",
   "metadata": {},
   "source": [
    "## Imports"
   ]
  },
  {
   "cell_type": "code",
   "execution_count": 1,
   "id": "opening-swimming",
   "metadata": {
    "ExecuteTime": {
     "end_time": "2021-02-26T01:02:48.344100Z",
     "start_time": "2021-02-26T01:02:45.666467Z"
    }
   },
   "outputs": [],
   "source": [
    "import pandas as pd\n",
    "import numpy as np\n",
    "import requests\n",
    "import seaborn as sns\n",
    "import matplotlib.pyplot as plt\n",
    "from tqdm import tqdm\n",
    "import time\n",
    "import sklearn.metrics as metrics\n",
    "\n",
    "from sklearn.model_selection import train_test_split, cross_val_score, GridSearchCV\n",
    "from sklearn.feature_extraction.text import TfidfVectorizer, CountVectorizer\n",
    "from sklearn.ensemble import RandomForestClassifier\n",
    "from sklearn.neighbors import KNeighborsClassifier\n",
    "from sklearn.linear_model import LogisticRegression\n",
    "from sklearn.svm import SVC\n",
    "from nltk.tokenize import WordPunctTokenizer"
   ]
  },
  {
   "cell_type": "markdown",
   "id": "framed-letter",
   "metadata": {},
   "source": [
    "## Gathering posts"
   ]
  },
  {
   "cell_type": "code",
   "execution_count": 2,
   "id": "banner-broad",
   "metadata": {
    "ExecuteTime": {
     "end_time": "2021-02-26T01:02:48.348522Z",
     "start_time": "2021-02-26T01:02:48.346506Z"
    }
   },
   "outputs": [],
   "source": [
    "# URL for the pushshift api\n",
    "\n",
    "post_url = 'https://api.pushshift.io/reddit/search/submission'"
   ]
  },
  {
   "cell_type": "code",
   "execution_count": 3,
   "id": "fresh-armor",
   "metadata": {
    "ExecuteTime": {
     "end_time": "2021-02-26T01:02:48.355803Z",
     "start_time": "2021-02-26T01:02:48.350711Z"
    }
   },
   "outputs": [],
   "source": [
    "# creates a function to pull posts from the api\n",
    "\n",
    "def get_posts(url, subreddit, timespan):\n",
    "    \n",
    "    '''\n",
    "    url: the API URL\n",
    "    subreddit: the name of the subreddit (after r/) as a string\n",
    "    timespan: the number of days into the past you want to collect posts\n",
    "    '''\n",
    "    \n",
    "# create an empty data frame for posts to be added to\n",
    "    df = pd.DataFrame()\n",
    "    \n",
    "# set standard parameters with the size == 100 and the subreddit\n",
    "# set to the subreddit passed into the function\n",
    "    params = {\n",
    "        'size':100, \n",
    "        'subreddit': subreddit\n",
    "    }\n",
    "\n",
    "# loops through each number (i) in range(timespan), adding them as \n",
    "# the before (i) and after (i+1) parameters in the params\n",
    "# dictionary to be used for the api call\n",
    "\n",
    "    for i in tqdm(range(timespan)):\n",
    "\n",
    "        params['before'] = f'{i}d'\n",
    "        params['after']= f'{i+1}d'\n",
    "\n",
    "# requests data from the api for each day and concatenates it to \n",
    "# the data frame instantiated above\n",
    "        req = requests.get(url, params)\n",
    "        data = req.json()\n",
    "        posts = data['data']\n",
    "        \n",
    "        day_posts = pd.DataFrame(posts)\n",
    "        \n",
    "        df = pd.concat([df, day_posts],ignore_index = True)\n",
    "        \n",
    "# add a .5 sec delay to each request so as to not hit the \n",
    "# API too quickly\n",
    "        time.sleep(.5)\n",
    "\n",
    "# returns the populated data frame\n",
    "    return df"
   ]
  },
  {
   "cell_type": "code",
   "execution_count": 4,
   "id": "wrong-italy",
   "metadata": {
    "ExecuteTime": {
     "end_time": "2021-02-26T01:02:48.359720Z",
     "start_time": "2021-02-26T01:02:48.357580Z"
    }
   },
   "outputs": [],
   "source": [
    "# calls the api to pull and return posts for the subreddit r/QAnonCasualties\n",
    "\n",
    "# for the sake of time/consistency, I have commented out this function\n",
    "# the pull was saved as a csv in this repo \n",
    "\n",
    "\n",
    "# qanon_casualties = get_posts(post_url, 'QAnonCasualties', 500)"
   ]
  },
  {
   "cell_type": "code",
   "execution_count": 5,
   "id": "bronze-manitoba",
   "metadata": {
    "ExecuteTime": {
     "end_time": "2021-02-26T01:02:48.363008Z",
     "start_time": "2021-02-26T01:02:48.361171Z"
    }
   },
   "outputs": [],
   "source": [
    "# saves the above cell as a csv, which is used below.\n",
    "\n",
    "# qanon_casualties.to_csv('qanon_casualties.csv')"
   ]
  },
  {
   "cell_type": "code",
   "execution_count": 6,
   "id": "posted-stretch",
   "metadata": {
    "ExecuteTime": {
     "end_time": "2021-02-26T01:02:48.367801Z",
     "start_time": "2021-02-26T01:02:48.365998Z"
    }
   },
   "outputs": [],
   "source": [
    "# calls the api to pull and return posts for the subreddit r/OffMyChest\n",
    "\n",
    "# for the sake of time/consistency, I have commented out this function\n",
    "# the pull was saved as a csv in this repo \n",
    "\n",
    "\n",
    "# offmychest = get_posts(post_url, 'offmychest', 200)"
   ]
  },
  {
   "cell_type": "code",
   "execution_count": 7,
   "id": "mental-prefix",
   "metadata": {
    "ExecuteTime": {
     "end_time": "2021-02-26T01:02:48.372274Z",
     "start_time": "2021-02-26T01:02:48.370464Z"
    }
   },
   "outputs": [],
   "source": [
    "# saves the above cell as a csv, which is used below.\n",
    "\n",
    "# offmychest.to_csv('offmychest.csv')"
   ]
  },
  {
   "cell_type": "code",
   "execution_count": 8,
   "id": "quantitative-alpha",
   "metadata": {
    "ExecuteTime": {
     "end_time": "2021-02-26T01:02:49.173944Z",
     "start_time": "2021-02-26T01:02:48.373885Z"
    }
   },
   "outputs": [
    {
     "name": "stderr",
     "output_type": "stream",
     "text": [
      "/Users/danielberry/opt/anaconda3/lib/python3.8/site-packages/IPython/core/interactiveshell.py:3155: DtypeWarning: Columns (69) have mixed types.Specify dtype option on import or set low_memory=False.\n",
      "  has_raised = await self.run_ast_nodes(code_ast.body, cell_name,\n"
     ]
    }
   ],
   "source": [
    "# reads in the previously saved csvs with the same variable name \n",
    "# as those used to call the api initially\n",
    "\n",
    "qanon_casualties = pd.read_csv('./data/qanon_casualties.csv').drop(columns = 'Unnamed: 0')\n",
    "offmychest = pd.read_csv('./data/offmychest.csv').drop(columns = 'Unnamed: 0')\n",
    "\n",
    "# drops in place any null values from the 'selftext' column\n",
    "\n",
    "qanon_casualties.dropna(subset=['selftext'], inplace = True)\n",
    "offmychest.dropna(subset=['selftext'], inplace = True)"
   ]
  },
  {
   "cell_type": "markdown",
   "id": "irish-recognition",
   "metadata": {},
   "source": [
    "## Combining dataframes, cleaning, vectorizing and setting up X, y"
   ]
  },
  {
   "cell_type": "code",
   "execution_count": 9,
   "id": "mexican-sailing",
   "metadata": {
    "ExecuteTime": {
     "end_time": "2021-02-26T01:02:49.324407Z",
     "start_time": "2021-02-26T01:02:49.175653Z"
    }
   },
   "outputs": [],
   "source": [
    "# combine the two datasets from the reddit pull\n",
    "\n",
    "df = pd.concat([qanon_casualties, offmychest], ignore_index=True)\n",
    "\n",
    "# drops any null values, and saves the data frame back as just\n",
    "# the body text and the target (i.e., 'selftext', 'subreddit')\n",
    "\n",
    "df = df[['selftext', 'subreddit']].dropna()\n",
    "\n",
    "# removes any cells that are only either [removed] or [deleted]\n",
    "\n",
    "df = df[df['selftext'] != '[removed]']\n",
    "df = df[df['selftext'] != '[deleted]']\n",
    "\n",
    "# drops duplicates in place\n",
    "\n",
    "df.selftext.drop_duplicates(inplace = True)"
   ]
  },
  {
   "cell_type": "code",
   "execution_count": 10,
   "id": "international-omega",
   "metadata": {
    "ExecuteTime": {
     "end_time": "2021-02-26T01:02:49.329230Z",
     "start_time": "2021-02-26T01:02:49.326174Z"
    }
   },
   "outputs": [],
   "source": [
    "# a function to redact any words that may affect the model\n",
    "\n",
    "def redact(row):\n",
    "    \n",
    "    '''\n",
    "    pass in a value and the function will remove the pre-determined\n",
    "    leak words that may affect how the model performs\n",
    "    '''\n",
    "\n",
    "    leak_words = ['QAnon', 'qanon', 'q anon', 'Q anon', 'Q Anon', 'Q ', 'conspiracy', 'conspiracies']\n",
    "    \n",
    "    for word in leak_words:\n",
    "        \n",
    "        row = row.replace(word,'')\n",
    "    \n",
    "    return row\n",
    "    "
   ]
  },
  {
   "cell_type": "code",
   "execution_count": 11,
   "id": "comprehensive-closure",
   "metadata": {
    "ExecuteTime": {
     "end_time": "2021-02-26T01:02:49.558541Z",
     "start_time": "2021-02-26T01:02:49.331128Z"
    }
   },
   "outputs": [],
   "source": [
    "# maps the redact function to the selftext column and saves it back\n",
    "\n",
    "df.selftext = df.selftext.map(redact)"
   ]
  },
  {
   "cell_type": "markdown",
   "id": "parental-joseph",
   "metadata": {},
   "source": [
    "## EDA\n"
   ]
  },
  {
   "cell_type": "code",
   "execution_count": 12,
   "id": "continental-antenna",
   "metadata": {
    "ExecuteTime": {
     "end_time": "2021-02-26T01:02:49.562837Z",
     "start_time": "2021-02-26T01:02:49.560421Z"
    }
   },
   "outputs": [],
   "source": [
    "# sets standard font sizes across graphs\n",
    "\n",
    "title_dict = {'fontsize': 18}\n",
    "label_dict = {'fontsize':14}"
   ]
  },
  {
   "cell_type": "code",
   "execution_count": 13,
   "id": "refined-navigation",
   "metadata": {
    "ExecuteTime": {
     "end_time": "2021-02-26T01:02:49.573218Z",
     "start_time": "2021-02-26T01:02:49.564900Z"
    }
   },
   "outputs": [],
   "source": [
    "# gets cleaned data for both of the subreddits\n",
    "\n",
    "qanon = df[df['subreddit'] == 'QAnonCasualties']\n",
    "omc = df[df['subreddit'] == 'offmychest']"
   ]
  },
  {
   "cell_type": "code",
   "execution_count": 14,
   "id": "loose-prince",
   "metadata": {
    "ExecuteTime": {
     "end_time": "2021-02-26T01:02:49.587287Z",
     "start_time": "2021-02-26T01:02:49.574678Z"
    }
   },
   "outputs": [
    {
     "data": {
      "text/html": [
       "<div>\n",
       "<style scoped>\n",
       "    .dataframe tbody tr th:only-of-type {\n",
       "        vertical-align: middle;\n",
       "    }\n",
       "\n",
       "    .dataframe tbody tr th {\n",
       "        vertical-align: top;\n",
       "    }\n",
       "\n",
       "    .dataframe thead th {\n",
       "        text-align: right;\n",
       "    }\n",
       "</style>\n",
       "<table border=\"1\" class=\"dataframe\">\n",
       "  <thead>\n",
       "    <tr style=\"text-align: right;\">\n",
       "      <th></th>\n",
       "      <th>selftext</th>\n",
       "      <th>subreddit</th>\n",
       "    </tr>\n",
       "  </thead>\n",
       "  <tbody>\n",
       "    <tr>\n",
       "      <th>0</th>\n",
       "      <td>If someone could please help me, I would reall...</td>\n",
       "      <td>QAnonCasualties</td>\n",
       "    </tr>\n",
       "    <tr>\n",
       "      <th>1</th>\n",
       "      <td>It started after the election my dad started c...</td>\n",
       "      <td>QAnonCasualties</td>\n",
       "    </tr>\n",
       "    <tr>\n",
       "      <th>2</th>\n",
       "      <td>My dad has become very scary especially after ...</td>\n",
       "      <td>QAnonCasualties</td>\n",
       "    </tr>\n",
       "    <tr>\n",
       "      <th>3</th>\n",
       "      <td>B )</td>\n",
       "      <td>QAnonCasualties</td>\n",
       "    </tr>\n",
       "    <tr>\n",
       "      <th>4</th>\n",
       "      <td>\\n\\n[View Poll](https://www.reddit.com/poll/l6...</td>\n",
       "      <td>QAnonCasualties</td>\n",
       "    </tr>\n",
       "    <tr>\n",
       "      <th>...</th>\n",
       "      <td>...</td>\n",
       "      <td>...</td>\n",
       "    </tr>\n",
       "    <tr>\n",
       "      <th>6377</th>\n",
       "      <td>Hi everyone! I've been dating this super sweet...</td>\n",
       "      <td>QAnonCasualties</td>\n",
       "    </tr>\n",
       "    <tr>\n",
       "      <th>6378</th>\n",
       "      <td>So, I just need to vent. My mother is obsessed...</td>\n",
       "      <td>QAnonCasualties</td>\n",
       "    </tr>\n",
       "    <tr>\n",
       "      <th>6379</th>\n",
       "      <td>https://www.reddit.com/r/altrightbrainwashing/...</td>\n",
       "      <td>QAnonCasualties</td>\n",
       "    </tr>\n",
       "    <tr>\n",
       "      <th>6380</th>\n",
       "      <td>Do you have a loved one who's been taken in by...</td>\n",
       "      <td>QAnonCasualties</td>\n",
       "    </tr>\n",
       "    <tr>\n",
       "      <th>6381</th>\n",
       "      <td>If you want to! \\n\\nEither way, feel free to e...</td>\n",
       "      <td>QAnonCasualties</td>\n",
       "    </tr>\n",
       "  </tbody>\n",
       "</table>\n",
       "<p>5925 rows × 2 columns</p>\n",
       "</div>"
      ],
      "text/plain": [
       "                                               selftext        subreddit\n",
       "0     If someone could please help me, I would reall...  QAnonCasualties\n",
       "1     It started after the election my dad started c...  QAnonCasualties\n",
       "2     My dad has become very scary especially after ...  QAnonCasualties\n",
       "3                                                   B )  QAnonCasualties\n",
       "4     \\n\\n[View Poll](https://www.reddit.com/poll/l6...  QAnonCasualties\n",
       "...                                                 ...              ...\n",
       "6377  Hi everyone! I've been dating this super sweet...  QAnonCasualties\n",
       "6378  So, I just need to vent. My mother is obsessed...  QAnonCasualties\n",
       "6379  https://www.reddit.com/r/altrightbrainwashing/...  QAnonCasualties\n",
       "6380  Do you have a loved one who's been taken in by...  QAnonCasualties\n",
       "6381  If you want to! \\n\\nEither way, feel free to e...  QAnonCasualties\n",
       "\n",
       "[5925 rows x 2 columns]"
      ]
     },
     "execution_count": 14,
     "metadata": {},
     "output_type": "execute_result"
    }
   ],
   "source": [
    "qanon"
   ]
  },
  {
   "cell_type": "code",
   "execution_count": 15,
   "id": "composite-grass",
   "metadata": {
    "ExecuteTime": {
     "end_time": "2021-02-26T01:02:49.866225Z",
     "start_time": "2021-02-26T01:02:49.588972Z"
    }
   },
   "outputs": [
    {
     "name": "stdout",
     "output_type": "stream",
     "text": [
      "Average word counts: 239.27949367088607\n"
     ]
    },
    {
     "data": {
      "image/png": "[encoded data removed]",
      "text/plain": [
       "<Figure size 864x432 with 1 Axes>"
      ]
     },
     "metadata": {
      "needs_background": "light"
     },
     "output_type": "display_data"
    }
   ],
   "source": [
    "# graph word counts for QAnonCasualties\n",
    "\n",
    "q_word_counts = qanon.selftext.apply(lambda x: len(x.split()))\n",
    "\n",
    "print('Average word counts:', q_word_counts.mean())\n",
    "\n",
    "plt.figure(figsize = (12, 6))\n",
    "\n",
    "plt.title('Distribution of r/QAnonCasualties post word counts', fontdict=title_dict)\n",
    "plt.xlabel('Word counts', fontdict=label_dict)\n",
    "plt.ylabel('Frequency', fontdict=label_dict)\n",
    "plt.hist(q_word_counts);"
   ]
  },
  {
   "cell_type": "code",
   "execution_count": 16,
   "id": "acoustic-japanese",
   "metadata": {
    "ExecuteTime": {
     "end_time": "2021-02-26T01:02:50.859103Z",
     "start_time": "2021-02-26T01:02:49.868316Z"
    }
   },
   "outputs": [],
   "source": [
    "# instantiate count vectorizer and fit/transform to the qanon data\n",
    "\n",
    "cvec = CountVectorizer(stop_words='english', max_features=5000)\n",
    "\n",
    "qanon_cvec = pd.DataFrame(cvec.fit_transform(qanon.selftext).todense(), \n",
    "                          columns = cvec.get_feature_names())"
   ]
  },
  {
   "cell_type": "code",
   "execution_count": 17,
   "id": "generous-flooring",
   "metadata": {
    "ExecuteTime": {
     "end_time": "2021-02-26T01:02:51.170850Z",
     "start_time": "2021-02-26T01:02:50.860874Z"
    }
   },
   "outputs": [
    {
     "data": {
      "image/png": "[encoded data removed]",
      "text/plain": [
       "<Figure size 864x432 with 1 Axes>"
      ]
     },
     "metadata": {
      "needs_background": "light"
     },
     "output_type": "display_data"
    }
   ],
   "source": [
    "# plot the top 20 most commonly used words for qanon data\n",
    "\n",
    "plt.figure(figsize = (12,6))\n",
    "\n",
    "plt.title('Most commonly used words in r/QAnonCasualties posts', fontdict=title_dict)\n",
    "plt.ylabel('Words', fontdict=label_dict)\n",
    "plt.xlabel('Frequency', fontdict=label_dict)\n",
    "plt.barh(qanon_cvec.sum().sort_values(ascending=False)[:20].index,\n",
    "        qanon_cvec.sum().sort_values(ascending=False)[:20].values);\n"
   ]
  },
  {
   "cell_type": "code",
   "execution_count": 18,
   "id": "determined-bidding",
   "metadata": {
    "ExecuteTime": {
     "end_time": "2021-02-26T01:02:51.606970Z",
     "start_time": "2021-02-26T01:02:51.177415Z"
    }
   },
   "outputs": [
    {
     "name": "stdout",
     "output_type": "stream",
     "text": [
      "Average word counts: 248.48386707677463\n"
     ]
    },
    {
     "data": {
      "image/png": "[encoded data removed]",
      "text/plain": [
       "<Figure size 864x432 with 1 Axes>"
      ]
     },
     "metadata": {
      "needs_background": "light"
     },
     "output_type": "display_data"
    }
   ],
   "source": [
    "# graph word counts for offmychest\n",
    "\n",
    "omc_word_counts = omc.selftext.apply(lambda x: len(x.split()))\n",
    "\n",
    "print('Average word counts:', omc_word_counts.mean())\n",
    "\n",
    "plt.figure(figsize = (12, 6))\n",
    "\n",
    "plt.title('Distribution of r/offmychest post word counts', fontdict=title_dict)\n",
    "plt.xlabel('Word counts', fontdict=label_dict)\n",
    "plt.ylabel('Frequency', fontdict=label_dict)\n",
    "plt.hist(omc_word_counts, color = 'g');"
   ]
  },
  {
   "cell_type": "code",
   "execution_count": 19,
   "id": "surprised-classics",
   "metadata": {
    "ExecuteTime": {
     "end_time": "2021-02-26T01:02:54.224374Z",
     "start_time": "2021-02-26T01:02:51.611178Z"
    }
   },
   "outputs": [],
   "source": [
    "# instantiate count vectorizer and fit/transform to the offmychest data\n",
    "\n",
    "cvec = CountVectorizer(stop_words='english', max_features=5000)\n",
    "\n",
    "omc_cvec = pd.DataFrame(cvec.fit_transform(omc.selftext).todense(), \n",
    "                          columns = cvec.get_feature_names())"
   ]
  },
  {
   "cell_type": "code",
   "execution_count": 20,
   "id": "classified-dover",
   "metadata": {
    "ExecuteTime": {
     "end_time": "2021-02-26T01:02:54.668906Z",
     "start_time": "2021-02-26T01:02:54.226479Z"
    }
   },
   "outputs": [
    {
     "data": {
      "image/png": "[encoded data removed]",
      "text/plain": [
       "<Figure size 864x432 with 1 Axes>"
      ]
     },
     "metadata": {
      "needs_background": "light"
     },
     "output_type": "display_data"
    }
   ],
   "source": [
    "# plot the top 20 most commonly used words for offmychest data\n",
    "\n",
    "plt.figure(figsize = (12,6))\n",
    "\n",
    "plt.title('Most commonly used words in r/offmychest posts', fontdict=title_dict)\n",
    "plt.ylabel('Words', fontdict=label_dict)\n",
    "plt.xlabel('Frequency', fontdict=label_dict)\n",
    "plt.barh(omc_cvec.sum().sort_values(ascending=False)[:20].index,\n",
    "        omc_cvec.sum().sort_values(ascending=False)[:20].values,\n",
    "        color = 'g');"
   ]
  },
  {
   "cell_type": "markdown",
   "id": "banned-emperor",
   "metadata": {},
   "source": [
    "## Vectorizing unstructured data"
   ]
  },
  {
   "cell_type": "code",
   "execution_count": 21,
   "id": "clear-stability",
   "metadata": {
    "ExecuteTime": {
     "end_time": "2021-02-26T01:03:05.102476Z",
     "start_time": "2021-02-26T01:02:54.671232Z"
    }
   },
   "outputs": [],
   "source": [
    "# instantiates the Tfidf vectorizer with english stop words\n",
    "\n",
    "tf = TfidfVectorizer(stop_words='english', strip_accents='unicode', max_features=5000)\n",
    "\n",
    "# fits the vectorizer to the unstructured data (i.e., the 'selftext' column)\n",
    "\n",
    "tf.fit(df['selftext'])\n",
    "\n",
    "# transforms the unstructured data into vectors and \n",
    "# returns it as a data frame that can be used for modeling\n",
    "\n",
    "tfvec = pd.DataFrame(tf.transform(df['selftext']).todense(),\n",
    "                     columns=tf.get_feature_names())"
   ]
  },
  {
   "cell_type": "code",
   "execution_count": 22,
   "id": "embedded-gateway",
   "metadata": {
    "ExecuteTime": {
     "end_time": "2021-02-26T01:03:05.108046Z",
     "start_time": "2021-02-26T01:03:05.104825Z"
    }
   },
   "outputs": [],
   "source": [
    "# sets X = the features (i.e., the vectorized data)\n",
    "# sets y = the target (i.e., the subreddit)\n",
    "\n",
    "X = tfvec\n",
    "y = df['subreddit']"
   ]
  },
  {
   "cell_type": "code",
   "execution_count": 23,
   "id": "typical-nirvana",
   "metadata": {
    "ExecuteTime": {
     "end_time": "2021-02-26T01:03:05.118519Z",
     "start_time": "2021-02-26T01:03:05.110630Z"
    }
   },
   "outputs": [
    {
     "data": {
      "text/plain": [
       "offmychest         0.736737\n",
       "QAnonCasualties    0.263263\n",
       "Name: subreddit, dtype: float64"
      ]
     },
     "execution_count": 23,
     "metadata": {},
     "output_type": "execute_result"
    }
   ],
   "source": [
    "# baseline\n",
    "\n",
    "y.value_counts(normalize = True)\n",
    "\n",
    "# baseline accuracy is 0.736737"
   ]
  },
  {
   "cell_type": "code",
   "execution_count": 24,
   "id": "perfect-fitness",
   "metadata": {
    "ExecuteTime": {
     "end_time": "2021-02-26T01:03:06.355317Z",
     "start_time": "2021-02-26T01:03:05.120131Z"
    }
   },
   "outputs": [],
   "source": [
    "X_train, X_test, y_train, y_test = train_test_split(X, y, stratify = y)"
   ]
  },
  {
   "cell_type": "markdown",
   "id": "russian-japan",
   "metadata": {},
   "source": [
    "## Log Reg"
   ]
  },
  {
   "cell_type": "code",
   "execution_count": 25,
   "id": "cutting-consultation",
   "metadata": {
    "ExecuteTime": {
     "end_time": "2021-02-26T01:03:06.362673Z",
     "start_time": "2021-02-26T01:03:06.357788Z"
    }
   },
   "outputs": [],
   "source": [
    "# instantiates the logistic regression\n",
    "\n",
    "logr = LogisticRegression()"
   ]
  },
  {
   "cell_type": "code",
   "execution_count": 26,
   "id": "negative-turner",
   "metadata": {
    "ExecuteTime": {
     "end_time": "2021-02-26T01:03:13.146805Z",
     "start_time": "2021-02-26T01:03:06.368411Z"
    }
   },
   "outputs": [
    {
     "name": "stdout",
     "output_type": "stream",
     "text": [
      "Train: 0.9610758931216304\n",
      "Test: 0.9472187666607429\n"
     ]
    }
   ],
   "source": [
    "# fit the training data and return the train/test scores for logistic regression\n",
    "\n",
    "logr.fit(X_train, y_train)\n",
    "\n",
    "print('Train:', logr.score(X_train, y_train))\n",
    "print('Test:', logr.score(X_test, y_test))\n",
    "\n",
    "# logistic regression returns the following scores as the baseline\n",
    "\n",
    "# Train: 0.9608389122578351\n",
    "# Test: 0.9489959125644215"
   ]
  },
  {
   "cell_type": "code",
   "execution_count": 27,
   "id": "musical-tradition",
   "metadata": {
    "ExecuteTime": {
     "end_time": "2021-02-26T01:03:13.492177Z",
     "start_time": "2021-02-26T01:03:13.150164Z"
    }
   },
   "outputs": [
    {
     "data": {
      "image/png": "[encoded data removed]",
      "text/plain": [
       "<Figure size 432x288 with 2 Axes>"
      ]
     },
     "metadata": {
      "needs_background": "light"
     },
     "output_type": "display_data"
    }
   ],
   "source": [
    "# plot the confusion matrix\n",
    "\n",
    "metrics.plot_confusion_matrix(logr, X_test, y_test, normalize = 'true');"
   ]
  },
  {
   "cell_type": "markdown",
   "id": "adjustable-contributor",
   "metadata": {},
   "source": [
    "## Random Forests"
   ]
  },
  {
   "cell_type": "code",
   "execution_count": 28,
   "id": "failing-opinion",
   "metadata": {
    "ExecuteTime": {
     "end_time": "2021-02-26T01:03:13.498395Z",
     "start_time": "2021-02-26T01:03:13.495344Z"
    }
   },
   "outputs": [],
   "source": [
    "# instantiates a random forest classifier\n",
    "\n",
    "rf = RandomForestClassifier()"
   ]
  },
  {
   "cell_type": "code",
   "execution_count": 29,
   "id": "hungarian-thesaurus",
   "metadata": {
    "ExecuteTime": {
     "end_time": "2021-02-26T01:05:00.102075Z",
     "start_time": "2021-02-26T01:03:13.503350Z"
    }
   },
   "outputs": [
    {
     "name": "stdout",
     "output_type": "stream",
     "text": [
      "Train: 0.9992298121926655\n",
      "Test: 0.9363781766483028\n"
     ]
    }
   ],
   "source": [
    "# fit the training data to the random forests classifier and\n",
    "# return the train/test scores\n",
    "\n",
    "rf.fit(X_train, y_train)\n",
    "\n",
    "print('Train:', rf.score(X_train, y_train))\n",
    "print('Test:', rf.score(X_test, y_test))\n",
    "\n",
    "# Random forests classifier returns the following scores:\n",
    "\n",
    "# Train: 0.9992298121926655\n",
    "# Test: 0.9363781766483028\n",
    "    \n",
    "# The model is overfit to the training data, but it does not do\n",
    "# significantly worse than the logistic regression on the test\n",
    "# data"
   ]
  },
  {
   "cell_type": "code",
   "execution_count": 30,
   "id": "other-weekly",
   "metadata": {
    "ExecuteTime": {
     "end_time": "2021-02-26T01:05:00.798489Z",
     "start_time": "2021-02-26T01:05:00.104202Z"
    }
   },
   "outputs": [
    {
     "data": {
      "image/png": "[encoded data removed]",
      "text/plain": [
       "<Figure size 432x288 with 2 Axes>"
      ]
     },
     "metadata": {
      "needs_background": "light"
     },
     "output_type": "display_data"
    }
   ],
   "source": [
    "metrics.plot_confusion_matrix(rf, X_test, y_test, normalize='true');"
   ]
  },
  {
   "cell_type": "markdown",
   "id": "liable-handbook",
   "metadata": {},
   "source": [
    "## KNN"
   ]
  },
  {
   "cell_type": "code",
   "execution_count": 31,
   "id": "durable-soldier",
   "metadata": {
    "ExecuteTime": {
     "end_time": "2021-02-26T01:05:00.803154Z",
     "start_time": "2021-02-26T01:05:00.800577Z"
    }
   },
   "outputs": [],
   "source": [
    "# instantiates a K-nearest Neighbors classifier \n",
    "\n",
    "knn = KNeighborsClassifier(n_jobs = -1)"
   ]
  },
  {
   "cell_type": "code",
   "execution_count": 32,
   "id": "forbidden-malaysia",
   "metadata": {
    "ExecuteTime": {
     "end_time": "2021-02-26T01:19:51.879871Z",
     "start_time": "2021-02-26T01:05:00.804768Z"
    }
   },
   "outputs": [
    {
     "name": "stdout",
     "output_type": "stream",
     "text": [
      "Train score: 0.8103560637478524\n",
      "Test score: 0.7522658610271903\n"
     ]
    }
   ],
   "source": [
    "# fits the data to X_train and y_train \n",
    "\n",
    "knn.fit(X_train, y_train)\n",
    "\n",
    "# returns the performance of the KNN model for the training\n",
    "# and the testing data\n",
    "\n",
    "print('Train score:', knn.score(X_train, y_train))\n",
    "print('Test score:', knn.score(X_test, y_test))\n",
    "\n",
    "# Train score: 0.7867172225842763\n",
    "# Test score: 0.7517327172560867\n",
    "\n",
    "# KNN performs significantly worse than logistic regression\n",
    "# and random forests"
   ]
  },
  {
   "cell_type": "code",
   "execution_count": 33,
   "id": "proprietary-madonna",
   "metadata": {
    "ExecuteTime": {
     "end_time": "2021-02-26T01:23:12.013900Z",
     "start_time": "2021-02-26T01:19:51.883075Z"
    }
   },
   "outputs": [
    {
     "data": {
      "image/png": "[encoded data removed]",
      "text/plain": [
       "<Figure size 432x288 with 2 Axes>"
      ]
     },
     "metadata": {
      "needs_background": "light"
     },
     "output_type": "display_data"
    }
   ],
   "source": [
    "metrics.plot_confusion_matrix(knn, X_test, y_test, normalize='true');"
   ]
  }
 ],
 "metadata": {
  "kernelspec": {
   "display_name": "Python 3",
   "language": "python",
   "name": "python3"
  },
  "language_info": {
   "codemirror_mode": {
    "name": "ipython",
    "version": 3
   },
   "file_extension": ".py",
   "mimetype": "text/x-python",
   "name": "python",
   "nbconvert_exporter": "python",
   "pygments_lexer": "ipython3",
   "version": "3.8.5"
  },
  "toc": {
   "base_numbering": 1,
   "nav_menu": {},
   "number_sections": true,
   "sideBar": true,
   "skip_h1_title": false,
   "title_cell": "Table of Contents",
   "title_sidebar": "Contents",
   "toc_cell": false,
   "toc_position": {},
   "toc_section_display": true,
   "toc_window_display": false
  },
  "varInspector": {
   "cols": {
    "lenName": 16,
    "lenType": 16,
    "lenVar": 40
   },
   "kernels_config": {
    "python": {
     "delete_cmd_postfix": "",
     "delete_cmd_prefix": "del ",
     "library": "var_list.py",
     "varRefreshCmd": "print(var_dic_list())"
    },
    "r": {
     "delete_cmd_postfix": ") ",
     "delete_cmd_prefix": "rm(",
     "library": "var_list.r",
     "varRefreshCmd": "cat(var_dic_list()) "
    }
   },
   "types_to_exclude": [
    "module",
    "function",
    "builtin_function_or_method",
    "instance",
    "_Feature"
   ],
   "window_display": false
  }
 },
 "nbformat": 4,
 "nbformat_minor": 5
}
